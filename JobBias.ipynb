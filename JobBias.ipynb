{
  "nbformat": 4,
  "nbformat_minor": 0,
  "metadata": {
    "colab": {
      "provenance": []
    },
    "kernelspec": {
      "name": "python3",
      "display_name": "Python 3"
    },
    "language_info": {
      "name": "python"
    }
  },
  "cells": [
    {
      "cell_type": "code",
      "source": [
        "import pandas as pd\n",
        "import torch\n",
        "from sklearn.model_selection import train_test_split\n",
        "from sklearn.metrics import classification_report\n",
        "from transformers import BertTokenizer, BertForSequenceClassification\n",
        "from transformers import Trainer, TrainingArguments\n",
        "\n",
        "team_descriptions = [\n",
        "    [\"We seek a collaborative team member who values diversity.\", \"inclusive\"],\n",
        "    [\"We need a go-getter who thrives under pressure.\", \"biased\"],\n",
        "    [\"We are looking for a supportive team player who uplifts others.\", \"inclusive\"],\n",
        "    [\"We want someone who can take charge and make tough decisions.\", \"biased\"],\n",
        "    [\"We seek a consensus builder who listens to everyone's input.\", \"inclusive\"],\n",
        "    [\"We need a competitive individual who drives results.\", \"biased\"],\n",
        "    [\"We want a compassionate team member who prioritizes collaboration.\", \"inclusive\"],\n",
        "    [\"We are looking for a strong-willed leader who won't back down.\", \"biased\"],\n",
        "    [\"We seek a flexible team member who adapts to change.\", \"inclusive\"],\n",
        "    [\"We want an assertive person who can handle challenges head-on.\", \"biased\"],\n",
        "    [\"We need a thoughtful communicator who values each voice in the room.\", \"inclusive\"]\n",
        "]\n",
        "\n",
        "df = pd.DataFrame(team_descriptions, columns=['description', 'label'])\n",
        "\n",
        "print(df)\n",
        "\n",
        "X_train, X_test, y_train, y_test = train_test_split(df['description'], df['label'], test_size=0.2, random_state=42)\n",
        "\n",
        "tokenizer = BertTokenizer.from_pretrained('bert-base-uncased')\n",
        "\n",
        "train_encodings = tokenizer(list(X_train), truncation=True, padding=True, max_length=128)\n",
        "test_encodings = tokenizer(list(X_test), truncation=True, padding=True, max_length=128)\n",
        "\n",
        "class JobDescriptionDataset(torch.utils.data.Dataset):\n",
        "    def __init__(self, encodings, labels):\n",
        "        self.encodings = encodings\n",
        "        self.labels = labels\n",
        "\n",
        "    def __getitem__(self, idx):\n",
        "        item = {key: torch.tensor(val[idx]) for key, val in self.encodings.items()}\n",
        "        item['labels'] = torch.tensor(self.labels[idx])\n",
        "        return item\n",
        "\n",
        "    def __len__(self):\n",
        "        return len(self.labels)\n",
        "\n",
        "train_dataset = JobDescriptionDataset(train_encodings, y_train.map({'biased': 0, 'inclusive': 1}).tolist())\n",
        "test_dataset = JobDescriptionDataset(test_encodings, y_test.map({'biased': 0, 'inclusive': 1}).tolist())\n",
        "\n",
        "model = BertForSequenceClassification.from_pretrained('bert-base-uncased', num_labels=2)\n",
        "\n",
        "training_args = TrainingArguments(\n",
        "    output_dir='./results',\n",
        "    num_train_epochs=3,\n",
        "    per_device_train_batch_size=8,\n",
        "    per_device_eval_batch_size=8,\n",
        "    warmup_steps=500,\n",
        "    weight_decay=0.01,\n",
        "    logging_dir='./logs',\n",
        "    logging_steps=10,\n",
        "    evaluation_strategy=\"epoch\",\n",
        ")\n",
        "\n",
        "trainer = Trainer(\n",
        "    model=model,\n",
        "    args=training_args,\n",
        "    train_dataset=train_dataset,\n",
        "    eval_dataset=test_dataset,\n",
        ")\n",
        "\n",
        "trainer.train()\n",
        "\n",
        "predictions = trainer.predict(test_dataset)\n",
        "preds = predictions.predictions.argmax(-1)\n",
        "print(classification_report(y_test.map({'biased': 0, 'inclusive': 1}).tolist(), preds))\n",
        "\n",
        "def suggest_revisions(description):\n",
        "    biased_terms = {\n",
        "        'go-getter': 'driven individual',\n",
        "        'strong-willed leader': 'effective team player',\n",
        "        'take charge': 'lead collaboratively',\n",
        "        'assertive': 'confident team member',\n",
        "        'competitive': 'motivated individual',\n",
        "    }\n",
        "    for term, suggestion in biased_terms.items():\n",
        "        if term in description.lower():\n",
        "            description = description.replace(term, suggestion)\n",
        "    return description\n",
        "\n",
        "revised_descriptions = [suggest_revisions(desc[0]) for desc in team_descriptions]\n",
        "\n",
        "print(\"Original Description:\")\n",
        "for desc in team_descriptions:\n",
        "    print(desc[0])\n",
        "\n",
        "print(\"\\nSuggested Revision:\")\n",
        "for rev in revised_descriptions:\n",
        "    print(rev)\n",
        "\n"
      ],
      "metadata": {
        "colab": {
          "base_uri": "https://localhost:8080/",
          "height": 1000
        },
        "id": "grhUuJHvqerL",
        "outputId": "27e29031-2d46-4ec4-b612-a673cfa578ee"
      },
      "execution_count": 29,
      "outputs": [
        {
          "output_type": "stream",
          "name": "stdout",
          "text": [
            "                                          description      label\n",
            "0   We seek a collaborative team member who values...  inclusive\n",
            "1     We need a go-getter who thrives under pressure.     biased\n",
            "2   We are looking for a supportive team player wh...  inclusive\n",
            "3   We want someone who can take charge and make t...     biased\n",
            "4   We seek a consensus builder who listens to eve...  inclusive\n",
            "5   We need a competitive individual who drives re...     biased\n",
            "6   We want a compassionate team member who priori...  inclusive\n",
            "7   We are looking for a strong-willed leader who ...     biased\n",
            "8   We seek a flexible team member who adapts to c...  inclusive\n",
            "9   We want an assertive person who can handle cha...     biased\n",
            "10  We need a thoughtful communicator who values e...  inclusive\n"
          ]
        },
        {
          "output_type": "stream",
          "name": "stderr",
          "text": [
            "/usr/local/lib/python3.10/dist-packages/transformers/tokenization_utils_base.py:1601: FutureWarning: `clean_up_tokenization_spaces` was not set. It will be set to `True` by default. This behavior will be depracted in transformers v4.45, and will be then set to `False` by default. For more details check this issue: https://github.com/huggingface/transformers/issues/31884\n",
            "  warnings.warn(\n",
            "Some weights of BertForSequenceClassification were not initialized from the model checkpoint at bert-base-uncased and are newly initialized: ['classifier.bias', 'classifier.weight']\n",
            "You should probably TRAIN this model on a down-stream task to be able to use it for predictions and inference.\n",
            "/usr/local/lib/python3.10/dist-packages/transformers/training_args.py:1525: FutureWarning: `evaluation_strategy` is deprecated and will be removed in version 4.46 of 🤗 Transformers. Use `eval_strategy` instead\n",
            "  warnings.warn(\n"
          ]
        },
        {
          "output_type": "display_data",
          "data": {
            "text/plain": [
              "<IPython.core.display.HTML object>"
            ],
            "text/html": [
              "\n",
              "    <div>\n",
              "      \n",
              "      <progress value='3' max='3' style='width:300px; height:20px; vertical-align: middle;'></progress>\n",
              "      [3/3 00:10, Epoch 3/3]\n",
              "    </div>\n",
              "    <table border=\"1\" class=\"dataframe\">\n",
              "  <thead>\n",
              " <tr style=\"text-align: left;\">\n",
              "      <th>Epoch</th>\n",
              "      <th>Training Loss</th>\n",
              "      <th>Validation Loss</th>\n",
              "    </tr>\n",
              "  </thead>\n",
              "  <tbody>\n",
              "    <tr>\n",
              "      <td>1</td>\n",
              "      <td>No log</td>\n",
              "      <td>0.787180</td>\n",
              "    </tr>\n",
              "    <tr>\n",
              "      <td>2</td>\n",
              "      <td>No log</td>\n",
              "      <td>0.787198</td>\n",
              "    </tr>\n",
              "    <tr>\n",
              "      <td>3</td>\n",
              "      <td>No log</td>\n",
              "      <td>0.787307</td>\n",
              "    </tr>\n",
              "  </tbody>\n",
              "</table><p>"
            ]
          },
          "metadata": {}
        },
        {
          "output_type": "display_data",
          "data": {
            "text/plain": [
              "<IPython.core.display.HTML object>"
            ],
            "text/html": []
          },
          "metadata": {}
        },
        {
          "output_type": "stream",
          "name": "stdout",
          "text": [
            "              precision    recall  f1-score   support\n",
            "\n",
            "           0       0.00      0.00      0.00         2\n",
            "           1       0.33      1.00      0.50         1\n",
            "\n",
            "    accuracy                           0.33         3\n",
            "   macro avg       0.17      0.50      0.25         3\n",
            "weighted avg       0.11      0.33      0.17         3\n",
            "\n",
            "Original Description:\n",
            "We seek a collaborative team member who values diversity.\n",
            "We need a go-getter who thrives under pressure.\n",
            "We are looking for a supportive team player who uplifts others.\n",
            "We want someone who can take charge and make tough decisions.\n",
            "We seek a consensus builder who listens to everyone's input.\n",
            "We need a competitive individual who drives results.\n",
            "We want a compassionate team member who prioritizes collaboration.\n",
            "We are looking for a strong-willed leader who won't back down.\n",
            "We seek a flexible team member who adapts to change.\n",
            "We want an assertive person who can handle challenges head-on.\n",
            "We need a thoughtful communicator who values each voice in the room.\n",
            "\n",
            "Suggested Revision:\n",
            "We seek a collaborative team member who values diversity.\n",
            "We need a driven individual who thrives under pressure.\n",
            "We are looking for a supportive team player who uplifts others.\n",
            "We want someone who can lead collaboratively and make tough decisions.\n",
            "We seek a consensus builder who listens to everyone's input.\n",
            "We need a motivated individual individual who drives results.\n",
            "We want a compassionate team member who prioritizes collaboration.\n",
            "We are looking for a effective team player who won't back down.\n",
            "We seek a flexible team member who adapts to change.\n",
            "We want an confident team member person who can handle challenges head-on.\n",
            "We need a thoughtful communicator who values each voice in the room.\n"
          ]
        },
        {
          "output_type": "stream",
          "name": "stderr",
          "text": [
            "/usr/local/lib/python3.10/dist-packages/sklearn/metrics/_classification.py:1471: UndefinedMetricWarning: Precision and F-score are ill-defined and being set to 0.0 in labels with no predicted samples. Use `zero_division` parameter to control this behavior.\n",
            "  _warn_prf(average, modifier, msg_start, len(result))\n",
            "/usr/local/lib/python3.10/dist-packages/sklearn/metrics/_classification.py:1471: UndefinedMetricWarning: Precision and F-score are ill-defined and being set to 0.0 in labels with no predicted samples. Use `zero_division` parameter to control this behavior.\n",
            "  _warn_prf(average, modifier, msg_start, len(result))\n",
            "/usr/local/lib/python3.10/dist-packages/sklearn/metrics/_classification.py:1471: UndefinedMetricWarning: Precision and F-score are ill-defined and being set to 0.0 in labels with no predicted samples. Use `zero_division` parameter to control this behavior.\n",
            "  _warn_prf(average, modifier, msg_start, len(result))\n"
          ]
        }
      ]
    }
  ]
}